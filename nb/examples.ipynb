{
 "cells": [
  {
   "cell_type": "markdown",
   "metadata": {},
   "source": [
    "# cosmoprimo examples"
   ]
  },
  {
   "cell_type": "markdown",
   "metadata": {},
   "source": [
    "## Cosmology"
   ]
  },
  {
   "cell_type": "code",
   "execution_count": 1,
   "metadata": {},
   "outputs": [],
   "source": [
    "import numpy as np\n",
    "import matplotlib.pyplot as plt\n",
    "\n",
    "from cosmoprimo import *"
   ]
  },
  {
   "cell_type": "code",
   "execution_count": 2,
   "metadata": {},
   "outputs": [
    {
     "name": "stdout",
     "output_type": "stream",
     "text": [
      "You can provide the following parameters (including conflicts): {'h': 0.7, 'Omega_cdm': 0.25, 'Omega_b': 0.05, 'Omega_k': 0.0, 'sigma8': 0.8, 'k_pivot': 0.05, 'n_s': 0.96, 'alpha_s': 0.0, 'r': 0.0, 'T_cmb': 2.7255, 'N_ur': None, 'm_ncdm': None, 'neutrino_hierarchy': None, 'T_ncdm': 0.71611, 'N_eff': 3.046, 'tau_reio': 0.06, 'reionization_width': 0.5, 'A_L': 1.0, 'w0_fld': -1.0, 'wa_fld': 0.0, 'cs2_fld': 1.0, 'H0': 0.7, 'omega_cdm': 0.25, 'Omega0_cdm': 0.25, 'Omega_c': 0.25, 'omega_c': 0.25, 'omega_b': 0.05, 'Omega0_b': 0.05, 'A_s': 0.8, 'ln10^{10}A_s': 0.8, 'Omega_g': 2.7255, 'omega_g': 2.7255, 'Omega0_g': 2.7255, 'Omega_ur': None, 'omega_ur': None, 'Omega0_ur': None, 'z_reio': 0.06, 'non_linear': '', 'modes': 's', 'lensing': False, 'z_pk': None, 'kmax_pk': 10.0, 'ellmax_cl': 2500}\n"
     ]
    }
   ],
   "source": [
    "# start with some vanilla cosmology\n",
    "cosmo = Cosmology()\n",
    "# Planck2018 TT, TE, EE, lowE, lensing and BAO data\n",
    "cosmo_planck = Planck2018FullFlatLCDM()\n",
    "# custom cosmology\n",
    "cosmo_custom = Cosmology(omega_cdm=0.2,sigma8=0.7)\n",
    "print('You can provide the following parameters (including conflicts):',\n",
    "      cosmo.get_default_parameters(include_conflicts=True))"
   ]
  },
  {
   "cell_type": "code",
   "execution_count": 3,
   "metadata": {},
   "outputs": [
    {
     "name": "stdout",
     "output_type": "stream",
     "text": [
      "h 0.7 0.7\n",
      "Omega_cdm 0.25 0.4081632653061225\n"
     ]
    }
   ],
   "source": [
    "# input and easily derived parameters can be accessed through indexing\n",
    "print('h',cosmo['h'],cosmo_custom['h'])\n",
    "print('Omega_cdm',cosmo['Omega_cdm'],cosmo_custom['Omega_cdm'])"
   ]
  },
  {
   "cell_type": "markdown",
   "metadata": {},
   "source": [
    "## Engines"
   ]
  },
  {
   "cell_type": "code",
   "execution_count": 4,
   "metadata": {},
   "outputs": [],
   "source": [
    "# cosmological calculation is performed by engines. These can be set once for all as:\n",
    "cosmo = Cosmology(engine='class')\n",
    "# or :\n",
    "cosmo.set_engine(engine='camb')\n",
    "# or you can pass an engine instance directly\n",
    "cosmo.set_engine(engine=cosmo.engine) # CLASS engine was attached to cosmo with the previous call\n",
    "# then you don't need to specify it when calling specific sections, e.g.\n",
    "ba = cosmo.get_background()\n",
    "# or :\n",
    "ba = Background(cosmo)\n",
    "assert ba.engine is cosmo.engine\n",
    "# you can temporarily swith to another engine with:\n",
    "ba = cosmo.get_background(engine='camb',set_engine=False)\n",
    "# or :\n",
    "ba = Background(cosmo,engine='camb',set_engine=False)\n",
    "assert cosmo.engine is not ba.engine # class engine"
   ]
  },
  {
   "cell_type": "markdown",
   "metadata": {},
   "source": [
    "## Background"
   ]
  },
  {
   "cell_type": "code",
   "execution_count": 5,
   "metadata": {},
   "outputs": [],
   "source": [
    "# you can choose an engine ('class','camb','eisenstein_hu' for approximations) for the calculation\n",
    "# do ba = Background(cosmo,engine='class') or:\n",
    "ba = cosmo.get_background(engine='class') # e.g. precision parameters can be passed as other arguments\n",
    "ba_camb = Background(cosmo,engine='camb') # alternative way of getting background\n",
    "z = np.linspace(0.,10.,1000)\n",
    "plt.plot(z,ba.comoving_radial_distance(z),label='class')\n",
    "plt.plot(z,ba_camb.comoving_radial_distance(z),label='camb')\n",
    "plt.plot(z,cosmo_planck.get_background(engine='class').comoving_radial_distance(z),label='Planck2018')\n",
    "# redoing cosmo_planck.get_background(engine='class') will not recompute the background, it's saved one for all!\n",
    "# (cosmology instance is immutable)\n",
    "plt.xlabel('$z$')\n",
    "plt.ylabel('comoving radial distance [$\\mathrm{Mpc}/h$]')\n",
    "plt.legend();"
   ]
  },
  {
   "cell_type": "code",
   "execution_count": 6,
   "metadata": {},
   "outputs": [],
   "source": [
    "# many quantities are available: densities, distances;\n",
    "# look at the doc (for class, look at http://github.com/adematti/pyclass)\n",
    "plt.plot(z,ba.Omega_cdm(z),label='class')\n",
    "plt.plot(z,ba.Omega_cdm(z),label='Planck2018')\n",
    "plt.xlabel('$z$')\n",
    "plt.ylabel('density parameter of cold dark matter')\n",
    "plt.legend();"
   ]
  },
  {
   "cell_type": "markdown",
   "metadata": {},
   "source": [
    "## You can also access thermodynamics quantities (cosmo.get_thermodynamics()), primordial quantities, etc. Let's move to..."
   ]
  },
  {
   "cell_type": "markdown",
   "metadata": {},
   "source": [
    "## Perturbations"
   ]
  },
  {
   "cell_type": "code",
   "execution_count": 7,
   "metadata": {},
   "outputs": [],
   "source": [
    "hr = Harmonic(cosmo,engine='class')\n",
    "cls = hr.unlensed_cl()\n",
    "ells_factor = (cls['ell'] + 1) * cls['ell'] / (2 * np.pi)\n",
    "plt.plot(cls['ell'],ells_factor*cls['tt'],label='class')\n",
    "hr = cosmo.get_harmonic(engine='camb') # second initialisation style\n",
    "cls = hr.unlensed_cl() # same number of cells are output than in CLASS\n",
    "plt.plot(cls['ell'],ells_factor*cls['tt'],label='camb')\n",
    "plt.xlabel('$\\ell$')\n",
    "plt.ylabel('$\\ell(\\ell+1)C_{\\ell}/(2\\pi)$')\n",
    "plt.legend();\n",
    "# if you want lensed_cl(), you must set lensing=True as part of the Cosmology arguments"
   ]
  },
  {
   "cell_type": "code",
   "execution_count": 8,
   "metadata": {},
   "outputs": [],
   "source": [
    "fo = Fourier(cosmo,engine='class')\n",
    "pk = fo.pk_interpolator()\n",
    "k = np.logspace(-3,2,1000)\n",
    "z = 0\n",
    "plt.loglog(k,pk(k,z=z),label='class')\n",
    "fo_camb = cosmo.get_fourier(engine='camb') # second initialisation style\n",
    "pk = fo_camb.pk_interpolator() # same number of cells are output than in CLASS\n",
    "plt.loglog(k,pk(k,z=z),label='camb')\n",
    "# cross density-velocity CDM + baryon power spectrum\n",
    "plt.loglog(k,fo.pk_interpolator(of=('delta_cb','theta_cb'))(k,z=z),label=r'$P_{\\delta_{cb}\\theta_{cb}}$')\n",
    "plt.xlabel('$k$ [$h/\\mathrm{Mpc}$]')\n",
    "plt.ylabel('$P(k)$ [$(\\mathrm{Mpc}/h)^{3}$]')\n",
    "plt.legend();"
   ]
  },
  {
   "cell_type": "code",
   "execution_count": 9,
   "metadata": {},
   "outputs": [],
   "source": [
    "# fast approximations\n",
    "pk = fo.pk_interpolator()\n",
    "plt.loglog(k,pk(k,z=z),label='class')\n",
    "plt.loglog(k,Fourier(cosmo,'eisenstein_hu').pk_interpolator()(k,z=z),label='EH1998')\n",
    "plt.loglog(k,Fourier(cosmo,'eisenstein_hu_nowiggle').pk_interpolator()(k,z=z),label='EH1998 no wiggle')\n",
    "plt.loglog(k,Fourier(cosmo,'bbks').pk_interpolator()(k,z=z),label='BBKS')\n",
    "plt.xlabel('$k$ [$h/\\mathrm{Mpc}$]')\n",
    "plt.ylabel('$P(k)$ [$(\\mathrm{Mpc}/h)^{3}$]')\n",
    "plt.legend();"
   ]
  },
  {
   "cell_type": "markdown",
   "metadata": {},
   "source": [
    "## Note about fsgima8: should be better computed as the r.m.s. of velocity perturbations"
   ]
  },
  {
   "cell_type": "code",
   "execution_count": 10,
   "metadata": {},
   "outputs": [
    {
     "name": "stdout",
     "output_type": "stream",
     "text": [
      "fsigma8 is 0.41020923699256634\n"
     ]
    }
   ],
   "source": [
    "fo = Fourier(cosmo,engine='class')\n",
    "print('fsigma8 is',fo.sigma8_z(z=0,of='theta_cb'))"
   ]
  },
  {
   "cell_type": "code",
   "execution_count": 11,
   "metadata": {},
   "outputs": [],
   "source": [
    "# as a function of z\n",
    "k = np.logspace(-3,2,1000)\n",
    "z = np.linspace(0.,4.,10)\n",
    "colors = plt.cm.jet(np.linspace(0,1,len(z)))\n",
    "for z_,color in zip(z,colors):\n",
    "    plt.loglog(k,pk(k,z=z_),color=color)\n",
    "plt.xlabel('$k$ [$h/\\mathrm{Mpc}$]')\n",
    "plt.ylabel('$P(k)$ [$(\\mathrm{Mpc}/h)^{3}$]');"
   ]
  },
  {
   "cell_type": "markdown",
   "metadata": {},
   "source": [
    "## Interpolators: easy handling of pk/xi"
   ]
  },
  {
   "cell_type": "code",
   "execution_count": 12,
   "metadata": {},
   "outputs": [
    {
     "name": "stdout",
     "output_type": "stream",
     "text": [
      "2D power spectrum at k = 0.1, z = 1.0 is 1978.92264209062\n",
      "1D power spectrum at k = 0.1, z = 1.0 is 1978.9226420906236\n",
      "1D power spectrum from callable at k = 0.1, z = 1.0 is 1978.9226420906236\n"
     ]
    }
   ],
   "source": [
    "# 2D (k,z) interpolator (vectorized, of course)\n",
    "pk = fo.pk_interpolator()\n",
    "k, z = 0.1, 1.\n",
    "print('2D power spectrum at k = {}, z = {} is {}'.format(k,z,pk(k,z)))\n",
    "# cast to 1D z interpolator (tiny interpolation error)\n",
    "pk1d = pk.to_1d(z=z)\n",
    "print('1D power spectrum at k = {}, z = {} is {}'.format(k,z,pk1d(k)))\n",
    "# interpolators can be built from callables, e.g.\n",
    "pk1dc = PowerSpectrumInterpolator1D.from_callable(pk_callable=pk1d)\n",
    "print('1D power spectrum from callable at k = {}, z = {} is {}'.format(k,z,pk1dc(k)))"
   ]
  },
  {
   "cell_type": "code",
   "execution_count": 13,
   "metadata": {},
   "outputs": [
    {
     "name": "stdout",
     "output_type": "stream",
     "text": [
      "quadpack integration sigmarz = 1.0793057422508723 v.s. FFTlog sigmarz = 1.0793023447165275\n",
      "quadpack integration fsigmarz = 0.869022262086433 v.s. FFTlog fsigmarz = 0.8689120558440788\n"
     ]
    }
   ],
   "source": [
    "# get sigma_rz() (vectorised)\n",
    "r,z = 2.,1.\n",
    "print('quadpack integration sigmarz = {} v.s. FFTlog sigmarz = {}'.format(pk.sigma_rz(r,z,nk=None),pk.sigma_rz(r,z)))\n",
    "# estimate fsigma_rz()\n",
    "print('quadpack integration fsigmarz = {} v.s. FFTlog fsigmarz = {}'.format(pk.growth_rate_rz(r,z,nk=None),pk.growth_rate_rz(r,z)))"
   ]
  },
  {
   "cell_type": "code",
   "execution_count": 14,
   "metadata": {},
   "outputs": [],
   "source": [
    "# FFTlog transform (vectorised) to xi...\n",
    "xi = pk.to_xi()\n",
    "s = np.logspace(-2.,2.5,1000)\n",
    "z = np.linspace(0.,4.,10)\n",
    "colors = plt.cm.jet(np.linspace(0,1,len(z)))\n",
    "for z_,color in zip(z,colors):\n",
    "    plt.plot(s,s**2*xi(s,z=z_),color=color)\n",
    "plt.xlabel('$s$ [$\\mathrm{Mpc}/h$]')\n",
    "plt.ylabel(r'$s^{2}\\xi(s)$ [$(\\mathrm{Mpc}/h)^{2}$]');"
   ]
  },
  {
   "cell_type": "markdown",
   "metadata": {},
   "source": [
    "## BAO filters"
   ]
  },
  {
   "cell_type": "code",
   "execution_count": 15,
   "metadata": {},
   "outputs": [],
   "source": [
    "# several engines are available for the power spectrum, but wallish2018 is the most accurate one\n",
    "# note one can also provide a 1D power spectrum interpolator\n",
    "pknow = PowerSpectrumBAOFilter(pk,engine='wallish2018').smooth_pk_interpolator()\n",
    "k = np.logspace(-3,2,1000)\n",
    "z = np.linspace(0.,4.,10)\n",
    "colors = plt.cm.jet(np.linspace(0,1,len(z)))\n",
    "for z_,color in zip(z,colors):\n",
    "    plt.loglog(k,pk(k,z=z_)/pknow(k,z=z_),color=color)\n",
    "plt.xlabel('$k$ [$h/\\mathrm{Mpc}$]')\n",
    "plt.ylabel('$P(k)/P_{\\mathrm{now}}(k)$');"
   ]
  },
  {
   "cell_type": "code",
   "execution_count": 16,
   "metadata": {},
   "outputs": [],
   "source": [
    "# for the correlation function, the Kirkby2013 approach\n",
    "xinow = CorrelationFunctionBAOFilter(xi,engine='kirkby2013').smooth_xi_interpolator()\n",
    "s = np.logspace(-2.,2.5,1000)\n",
    "z = 1\n",
    "plt.plot(s,s**2*xi(s,z=z),label='class')\n",
    "plt.plot(s,s**2*xinow(s,z=z),label='kirkby2013')\n",
    "plt.xlabel('$s$ [$\\mathrm{Mpc}/h$]')\n",
    "plt.ylabel(r'$s^{2}\\xi(s)$ [$(\\mathrm{Mpc}/h)^{2}$]')\n",
    "plt.legend();"
   ]
  }
 ],
 "metadata": {
  "kernelspec": {
   "display_name": "cosmopipe-dev",
   "language": "python",
   "name": "cosmopipe-dev"
  },
  "language_info": {
   "codemirror_mode": {
    "name": "ipython",
    "version": 3
   },
   "file_extension": ".py",
   "mimetype": "text/x-python",
   "name": "python",
   "nbconvert_exporter": "python",
   "pygments_lexer": "ipython3",
   "version": "3.8.10"
  }
 },
 "nbformat": 4,
 "nbformat_minor": 2
}
